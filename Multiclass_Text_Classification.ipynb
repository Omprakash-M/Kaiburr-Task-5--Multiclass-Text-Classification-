{
 "cells": [
  {
   "cell_type": "markdown",
   "id": "c3f5887d-b485-4b74-be6c-07bf41690799",
   "metadata": {},
   "source": [
    "# Step 0: Imports"
   ]
  },
  {
   "cell_type": "code",
   "execution_count": 1,
   "id": "5083eafe-ce3d-4be3-972c-05e29d9cdb8e",
   "metadata": {},
   "outputs": [],
   "source": [
    "import pandas as pd\n",
    "import numpy as np\n",
    "import re\n",
    "import string\n",
    "import joblib\n",
    "import matplotlib.pyplot as plt\n",
    "import seaborn as sns\n",
    "\n",
    "from sklearn.model_selection import train_test_split\n",
    "from sklearn.feature_extraction.text import TfidfVectorizer\n",
    "from sklearn.linear_model import LogisticRegression\n",
    "from sklearn.naive_bayes import MultinomialNB\n",
    "from sklearn.ensemble import RandomForestClassifier\n",
    "from sklearn.metrics import classification_report, confusion_matrix, accuracy_score"
   ]
  },
  {
   "cell_type": "markdown",
   "id": "67711ec1-5c02-47ee-a896-8dad9fcfa5fc",
   "metadata": {},
   "source": [
    "# Step 1: Load & EDA"
   ]
  },
  {
   "cell_type": "code",
   "execution_count": 2,
   "id": "ce272ecd-9472-4f83-b42f-025e52ad1cb3",
   "metadata": {},
   "outputs": [
    {
     "name": "stdout",
     "output_type": "stream",
     "text": [
      "Class Distribution:\n",
      "Category\n",
      "0    38594\n",
      "1     6455\n",
      "3     2367\n",
      "2      146\n",
      "Name: count, dtype: int64\n"
     ]
    }
   ],
   "source": [
    "df = pd.read_csv(\"output_random.csv\")\n",
    "\n",
    "df = df[['Consumer complaint narrative', 'Product']].dropna()\n",
    "\n",
    "mapping = {\n",
    "    \"Credit reporting, credit repair services, or other personal consumer reports\": 0,\n",
    "    \"Credit reporting or other personal consumer reports\": 0,\n",
    "    \"Debt collection\": 1,\n",
    "    \"Consumer Loan\": 2,\n",
    "    \"Mortgage\": 3\n",
    "}\n",
    "df = df[df['Product'].isin(mapping.keys())]\n",
    "df['Category'] = df['Product'].map(mapping)\n",
    "\n",
    "print(\"Class Distribution:\")\n",
    "print(df['Category'].value_counts())"
   ]
  },
  {
   "cell_type": "markdown",
   "id": "b9dcef40-6d7c-4e6f-9dd5-f2795556eb48",
   "metadata": {},
   "source": [
    "# Step 2: Text Preprocessing"
   ]
  },
  {
   "cell_type": "code",
   "execution_count": 3,
   "id": "6f5693ad-0207-47cb-a7b8-2e1d964c23bd",
   "metadata": {},
   "outputs": [],
   "source": [
    "def clean_text(text):\n",
    "    text = text.lower()\n",
    "    text = re.sub(r\"\\d+\", \"\", text)\n",
    "    text = text.translate(str.maketrans(\"\", \"\", string.punctuation))\n",
    "    text = re.sub(r\"\\s+\", \" \", text)\n",
    "    return text.strip()\n",
    "\n",
    "df['CleanText'] = df['Consumer complaint narrative'].apply(clean_text)"
   ]
  },
  {
   "cell_type": "markdown",
   "id": "3b31cac4-5667-4799-92b4-94dacbc1868b",
   "metadata": {},
   "source": [
    "# Step 3: TF-IDF Vectorization"
   ]
  },
  {
   "cell_type": "code",
   "execution_count": 4,
   "id": "e6e37e25-304e-44ec-acc5-2dfc64dcd342",
   "metadata": {},
   "outputs": [],
   "source": [
    "X = df['CleanText']\n",
    "y = df['Category']\n",
    "\n",
    "X_train, X_test, y_train, y_test = train_test_split(\n",
    "    X, y, test_size=0.2, random_state=42, stratify=y\n",
    ")\n",
    "\n",
    "vectorizer = TfidfVectorizer(stop_words='english', max_features=3000)\n",
    "X_train_tfidf = vectorizer.fit_transform(X_train)\n",
    "X_test_tfidf = vectorizer.transform(X_test)"
   ]
  },
  {
   "cell_type": "markdown",
   "id": "5b777295-ba87-49aa-b514-62c985dfdab7",
   "metadata": {},
   "source": [
    "# Step 4: Model Selection"
   ]
  },
  {
   "cell_type": "code",
   "execution_count": 8,
   "id": "cb1071c9-14e4-4730-bda3-e7ba82bfc6c4",
   "metadata": {},
   "outputs": [
    {
     "name": "stdout",
     "output_type": "stream",
     "text": [
      "\n",
      "Logistic Regression Accuracy: 0.9270\n",
      "                  precision    recall  f1-score   support\n",
      "\n",
      "Credit Reporting       0.94      0.98      0.96      7719\n",
      " Debt Collection       0.83      0.68      0.74      1291\n",
      "   Consumer Loan       1.00      0.07      0.13        29\n",
      "        Mortgage       0.91      0.86      0.89       474\n",
      "\n",
      "        accuracy                           0.93      9513\n",
      "       macro avg       0.92      0.65      0.68      9513\n",
      "    weighted avg       0.92      0.93      0.92      9513\n",
      "\n",
      "\n",
      "Naive Bayes Accuracy: 0.9114\n",
      "                  precision    recall  f1-score   support\n",
      "\n",
      "Credit Reporting       0.94      0.96      0.95      7719\n",
      " Debt Collection       0.77      0.63      0.69      1291\n",
      "   Consumer Loan       0.00      0.00      0.00        29\n",
      "        Mortgage       0.78      0.92      0.85       474\n",
      "\n",
      "        accuracy                           0.91      9513\n",
      "       macro avg       0.62      0.63      0.62      9513\n",
      "    weighted avg       0.91      0.91      0.91      9513\n",
      "\n",
      "\n",
      "Random Forest Accuracy: 0.9302\n",
      "                  precision    recall  f1-score   support\n",
      "\n",
      "Credit Reporting       0.94      0.99      0.96      7719\n",
      " Debt Collection       0.88      0.65      0.75      1291\n",
      "   Consumer Loan       0.00      0.00      0.00        29\n",
      "        Mortgage       0.92      0.84      0.88       474\n",
      "\n",
      "        accuracy                           0.93      9513\n",
      "       macro avg       0.68      0.62      0.65      9513\n",
      "    weighted avg       0.93      0.93      0.92      9513\n",
      "\n"
     ]
    }
   ],
   "source": [
    "import warnings\n",
    "warnings.filterwarnings(\"ignore\")\n",
    "\n",
    "models = {\n",
    "    \"Logistic Regression\": LogisticRegression(max_iter=2000, n_jobs=-1),\n",
    "    \"Naive Bayes\": MultinomialNB(),\n",
    "    \"Random Forest\": RandomForestClassifier(n_estimators=200, random_state=42, n_jobs=-1)\n",
    "}\n",
    "\n",
    "results = {}\n",
    "\n",
    "for name, model in models.items():\n",
    "    model.fit(X_train_tfidf, y_train)\n",
    "    y_pred = model.predict(X_test_tfidf)\n",
    "    acc = accuracy_score(y_test, y_pred)\n",
    "    report = classification_report(y_test, y_pred, output_dict=True)\n",
    "    results[name] = {\n",
    "        \"accuracy\": acc,\n",
    "        \"report\": report,\n",
    "        \"predictions\": y_pred,\n",
    "        \"model\": model\n",
    "    }\n",
    "    print(f\"\\n{name} Accuracy: {acc:.4f}\")\n",
    "    print(classification_report(y_test, y_pred, target_names=[\"Credit Reporting\",\"Debt Collection\",\"Consumer Loan\",\"Mortgage\"]))"
   ]
  },
  {
   "cell_type": "markdown",
   "id": "ad1e1248-fd69-49a6-8093-73891df9f7f3",
   "metadata": {},
   "source": [
    "# Step 5: Model Evaluation"
   ]
  },
  {
   "cell_type": "code",
   "execution_count": 6,
   "id": "3060911e-4097-498d-b5f4-ff232bfd98d3",
   "metadata": {},
   "outputs": [
    {
     "name": "stdout",
     "output_type": "stream",
     "text": [
      "\n",
      "Best Model: Random Forest with Accuracy 0.9302\n"
     ]
    },
    {
     "data": {
      "image/png": "[encoded data removed]",
      "text/plain": [
       "<Figure size 600x500 with 2 Axes>"
      ]
     },
     "metadata": {},
     "output_type": "display_data"
    }
   ],
   "source": [
    "best_model_name = max(results, key=lambda x: results[x]['accuracy'])\n",
    "best_model = results[best_model_name]['model']\n",
    "best_pred = results[best_model_name]['predictions']\n",
    "\n",
    "print(f\"\\nBest Model: {best_model_name} with Accuracy {results[best_model_name]['accuracy']:.4f}\")\n",
    "\n",
    "cm = confusion_matrix(y_test, best_pred)\n",
    "plt.figure(figsize=(6,5))\n",
    "sns.heatmap(cm, annot=True, fmt=\"d\", cmap=\"Blues\", xticklabels=[\"Credit Reporting\",\"Debt Collection\",\"Consumer Loan\",\"Mortgage\"], yticklabels=[\"Credit Reporting\",\"Debt Collection\",\"Consumer Loan\",\"Mortgage\"])\n",
    "plt.title(f\"Confusion Matrix - {best_model_name}\")\n",
    "plt.xlabel(\"Predicted\")\n",
    "plt.ylabel(\"Actual\")\n",
    "plt.show()"
   ]
  },
  {
   "cell_type": "markdown",
   "id": "70aad53e-9d79-4c66-8da6-61a55d3fc140",
   "metadata": {},
   "source": [
    "# Step 6: Prediction Examples"
   ]
  },
  {
   "cell_type": "code",
   "execution_count": 7,
   "id": "9565b4ca-e303-492a-8c36-9c7cdce435f4",
   "metadata": {},
   "outputs": [
    {
     "name": "stdout",
     "output_type": "stream",
     "text": [
      "\n",
      "Random 10 Predictions from Test Dataset:\n",
      "Complaint: i received calls from xxxx a furniture leasing company about an account which i had no knowledge of the company reached ...\n",
      "True Category: 1 | Predicted Category: 1\n",
      "\n",
      "Complaint: i am listing accounts and inquiries below that have been reported inaccurately on my credit report in compliance with th...\n",
      "True Category: 0 | Predicted Category: 0\n",
      "\n",
      "Complaint: when my loan closed with franklin loan xxxx in xxxx they collected months of hazard insurance x and months of property t...\n",
      "True Category: 3 | Predicted Category: 3\n",
      "\n",
      "Complaint: i am writing to formally dispute several unauthorized credit inquiries that appear on my credit report i have reviewed m...\n",
      "True Category: 0 | Predicted Category: 0\n",
      "\n",
      "Complaint: i reviewed my credit report and identified accounts that i am unfamiliar with upon reaching out to request verification ...\n",
      "True Category: 0 | Predicted Category: 0\n",
      "\n",
      "Complaint: i consistently ensured timely payments so im puzzled by an error in my credit report...\n",
      "True Category: 0 | Predicted Category: 0\n",
      "\n",
      "Complaint: i did not authorize the creation of these accounts and have suspicions regarding their legitimacy i kindly ask that you ...\n",
      "True Category: 0 | Predicted Category: 0\n",
      "\n",
      "Complaint: this is not my debt i have stated many times i have never lived in these apartments there was proof of me signing a leas...\n",
      "True Category: 1 | Predicted Category: 0\n",
      "\n",
      "Complaint: my name is xxxx xxxx xxxx xxxx and i am sending this request myself to address the inaccuracies on my credit report this...\n",
      "True Category: 0 | Predicted Category: 0\n",
      "\n",
      "Complaint: my primary concern is the account mentioned below which is incorrectly listed as a late payment account i urge you to pr...\n",
      "True Category: 1 | Predicted Category: 0\n",
      "\n"
     ]
    }
   ],
   "source": [
    "import random\n",
    "\n",
    "sample_idx = random.sample(range(len(X_test)), 10)\n",
    "\n",
    "sample_texts = X_test.iloc[sample_idx]\n",
    "sample_true = y_test.iloc[sample_idx]\n",
    "\n",
    "sample_tfidf = vectorizer.transform(sample_texts)\n",
    "\n",
    "sample_preds = best_model.predict(sample_tfidf)\n",
    "\n",
    "print(\"\\nRandom 10 Predictions from Test Dataset:\")\n",
    "for txt, true_label, pred in zip(sample_texts, sample_true, sample_preds):\n",
    "    print(f\"Complaint: {txt[:120]}...\")\n",
    "    print(f\"True Category: {true_label} | Predicted Category: {pred}\\n\")"
   ]
  },
  {
   "cell_type": "code",
   "execution_count": null,
   "id": "d129b464-e15d-4650-aa88-7e958e831fa5",
   "metadata": {},
   "outputs": [],
   "source": []
  }
 ],
 "metadata": {
  "kernelspec": {
   "display_name": "Python 3 (ipykernel)",
   "language": "python",
   "name": "python3"
  },
  "language_info": {
   "codemirror_mode": {
    "name": "ipython",
    "version": 3
   },
   "file_extension": ".py",
   "mimetype": "text/x-python",
   "name": "python",
   "nbconvert_exporter": "python",
   "pygments_lexer": "ipython3",
   "version": "3.11.4"
  }
 },
 "nbformat": 4,
 "nbformat_minor": 5
}
